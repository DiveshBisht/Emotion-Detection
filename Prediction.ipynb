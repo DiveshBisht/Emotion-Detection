{
 "cells": [
  {
   "cell_type": "code",
   "execution_count": 1,
   "metadata": {},
   "outputs": [],
   "source": [
    "import numpy as np\n",
    "import cv2\n",
    "from keras.preprocessing import image\n",
    "from keras.models import load_model"
   ]
  },
  {
   "cell_type": "code",
   "execution_count": 2,
   "metadata": {},
   "outputs": [],
   "source": [
    "model = load_model('fine_tuned_model.h5')\n",
    "face_clf=cv2.CascadeClassifier('haarcascade_frontalface_default.xml')"
   ]
  },
  {
   "cell_type": "code",
   "execution_count": 30,
   "metadata": {},
   "outputs": [
    {
     "data": {
      "text/plain": [
       "True"
      ]
     },
     "execution_count": 30,
     "metadata": {},
     "output_type": "execute_result"
    }
   ],
   "source": [
    "img=image.load_img('sample/happy.jpg')\n",
    "img=np.array(img)\n",
    "gray_img= cv2.cvtColor(img, cv2.COLOR_BGR2GRAY)\n",
    "faces_detected = face_clf.detectMultiScale(gray_img, 1.32, 5)\n",
    "\n",
    "for (x,y,w,h) in faces_detected:\n",
    "    cv2.rectangle(img,(x,y),(x+w,y+h),(255,0,0),thickness=7)\n",
    "    face_img=gray_img[y:y+w,x:x+h]\n",
    "    face_img=cv2.resize(face_img,(48,48))\n",
    "    face_img=face_img/255.0\n",
    "    face_img=face_img.reshape(1,48, 48)\n",
    "    face_img=np.repeat(face_img[..., np.newaxis], 3, -1)\n",
    "\n",
    "    prediction = model.predict(face_img)\n",
    "    max_index = np.argmax(prediction[0])\n",
    "    emotions = ('angry', 'disgust', 'fear', 'happy', 'sad', 'surprise', 'neutral')\n",
    "    predicted_emotion = emotions[max_index]\n",
    "\n",
    "    cv2.putText(img, predicted_emotion, (int(x), int(y)-10), cv2.FONT_HERSHEY_SIMPLEX, 1, (0,0,255), 2)\n",
    "\n",
    "cv2.imwrite(\"processed/happy.jpg\",img)"
   ]
  },
  {
   "cell_type": "code",
   "execution_count": 23,
   "metadata": {},
   "outputs": [
    {
     "name": "stdout",
     "output_type": "stream",
     "text": [
      "[[2.9486150e-03 2.5430119e-05 9.1873882e-03 9.7308254e-01 1.0390489e-03\n",
      "  1.2536575e-02 1.1804560e-03]]\n"
     ]
    }
   ],
   "source": [
    "print(prediction)"
   ]
  }
 ],
 "metadata": {
  "kernelspec": {
   "display_name": "Python 3",
   "language": "python",
   "name": "python3"
  },
  "language_info": {
   "codemirror_mode": {
    "name": "ipython",
    "version": 3
   },
   "file_extension": ".py",
   "mimetype": "text/x-python",
   "name": "python",
   "nbconvert_exporter": "python",
   "pygments_lexer": "ipython3",
   "version": "3.7.4"
  }
 },
 "nbformat": 4,
 "nbformat_minor": 2
}
