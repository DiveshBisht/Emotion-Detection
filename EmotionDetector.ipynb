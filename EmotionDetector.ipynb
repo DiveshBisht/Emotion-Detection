{
 "cells": [
  {
   "cell_type": "code",
   "execution_count": 1,
   "metadata": {
    "colab": {
     "base_uri": "https://localhost:8080/",
     "height": 122
    },
    "colab_type": "code",
    "executionInfo": {
     "elapsed": 41232,
     "status": "ok",
     "timestamp": 1599321345794,
     "user": {
      "displayName": "Divesh Bisht",
      "photoUrl": "",
      "userId": "12021115692153353923"
     },
     "user_tz": -330
    },
    "id": "A04lB19a7KB_",
    "outputId": "b76e4aab-6604-4727-9ec6-8c60ce6cb081"
   },
   "outputs": [
    {
     "name": "stdout",
     "output_type": "stream",
     "text": [
      "Go to this URL in a browser: https://accounts.google.com/o/oauth2/auth?client_id=947318989803-6bn6qk8qdgf4n4g3pfee6491hc0brc4i.apps.googleusercontent.com&redirect_uri=urn%3aietf%3awg%3aoauth%3a2.0%3aoob&scope=email%20https%3a%2f%2fwww.googleapis.com%2fauth%2fdocs.test%20https%3a%2f%2fwww.googleapis.com%2fauth%2fdrive%20https%3a%2f%2fwww.googleapis.com%2fauth%2fdrive.photos.readonly%20https%3a%2f%2fwww.googleapis.com%2fauth%2fpeopleapi.readonly&response_type=code\n",
      "\n",
      "Enter your authorization code:\n",
      "··········\n",
      "Mounted at /content/gdrive\n"
     ]
    }
   ],
   "source": [
    "from google.colab import drive\n",
    "drive.mount('/content/gdrive')"
   ]
  },
  {
   "cell_type": "code",
   "execution_count": 13,
   "metadata": {
    "colab": {},
    "colab_type": "code",
    "executionInfo": {
     "elapsed": 1376,
     "status": "ok",
     "timestamp": 1599321497761,
     "user": {
      "displayName": "Divesh Bisht",
      "photoUrl": "",
      "userId": "12021115692153353923"
     },
     "user_tz": -330
    },
    "id": "n-4IrQO_c7ZN"
   },
   "outputs": [],
   "source": [
    "import sys, os\n",
    "import pandas as pd\n",
    "import numpy as np\n",
    "\n",
    "from keras.models import Sequential, Model\n",
    "from keras.layers import Conv2D, MaxPooling2D, GlobalAveragePooling2D\n",
    "from keras.layers import Dense, Activation, Dropout, Flatten, BatchNormalization\n",
    "from keras.callbacks import ModelCheckpoint\n",
    "from keras.preprocessing import image\n",
    "from keras.preprocessing.image import ImageDataGenerator\n",
    "from keras import applications\n",
    "from keras.utils import np_utils\n",
    "from keras.optimizers import SGD "
   ]
  },
  {
   "cell_type": "code",
   "execution_count": 3,
   "metadata": {
    "colab": {
     "base_uri": "https://localhost:8080/",
     "height": 204
    },
    "colab_type": "code",
    "executionInfo": {
     "elapsed": 11598,
     "status": "ok",
     "timestamp": 1599321368640,
     "user": {
      "displayName": "Divesh Bisht",
      "photoUrl": "",
      "userId": "12021115692153353923"
     },
     "user_tz": -330
    },
    "id": "OmGaNIzZdiaJ",
    "outputId": "b81603f8-c34d-48b4-99fc-05ef2e93bf5b"
   },
   "outputs": [
    {
     "data": {
      "text/html": [
       "<div>\n",
       "<style scoped>\n",
       "    .dataframe tbody tr th:only-of-type {\n",
       "        vertical-align: middle;\n",
       "    }\n",
       "\n",
       "    .dataframe tbody tr th {\n",
       "        vertical-align: top;\n",
       "    }\n",
       "\n",
       "    .dataframe thead th {\n",
       "        text-align: right;\n",
       "    }\n",
       "</style>\n",
       "<table border=\"1\" class=\"dataframe\">\n",
       "  <thead>\n",
       "    <tr style=\"text-align: right;\">\n",
       "      <th></th>\n",
       "      <th>emotion</th>\n",
       "      <th>pixels</th>\n",
       "      <th>Usage</th>\n",
       "    </tr>\n",
       "  </thead>\n",
       "  <tbody>\n",
       "    <tr>\n",
       "      <th>0</th>\n",
       "      <td>0</td>\n",
       "      <td>70 80 82 72 58 58 60 63 54 58 60 48 89 115 121...</td>\n",
       "      <td>Training</td>\n",
       "    </tr>\n",
       "    <tr>\n",
       "      <th>1</th>\n",
       "      <td>0</td>\n",
       "      <td>151 150 147 155 148 133 111 140 170 174 182 15...</td>\n",
       "      <td>Training</td>\n",
       "    </tr>\n",
       "    <tr>\n",
       "      <th>2</th>\n",
       "      <td>2</td>\n",
       "      <td>231 212 156 164 174 138 161 173 182 200 106 38...</td>\n",
       "      <td>Training</td>\n",
       "    </tr>\n",
       "    <tr>\n",
       "      <th>3</th>\n",
       "      <td>4</td>\n",
       "      <td>24 32 36 30 32 23 19 20 30 41 21 22 32 34 21 1...</td>\n",
       "      <td>Training</td>\n",
       "    </tr>\n",
       "    <tr>\n",
       "      <th>4</th>\n",
       "      <td>6</td>\n",
       "      <td>4 0 0 0 0 0 0 0 0 0 0 0 3 15 23 28 48 50 58 84...</td>\n",
       "      <td>Training</td>\n",
       "    </tr>\n",
       "  </tbody>\n",
       "</table>\n",
       "</div>"
      ],
      "text/plain": [
       "   emotion                                             pixels     Usage\n",
       "0        0  70 80 82 72 58 58 60 63 54 58 60 48 89 115 121...  Training\n",
       "1        0  151 150 147 155 148 133 111 140 170 174 182 15...  Training\n",
       "2        2  231 212 156 164 174 138 161 173 182 200 106 38...  Training\n",
       "3        4  24 32 36 30 32 23 19 20 30 41 21 22 32 34 21 1...  Training\n",
       "4        6  4 0 0 0 0 0 0 0 0 0 0 0 3 15 23 28 48 50 58 84...  Training"
      ]
     },
     "execution_count": 3,
     "metadata": {
      "tags": []
     },
     "output_type": "execute_result"
    }
   ],
   "source": [
    "# {'Angry': 0, 'Disgust': 1, 'Fear': 2, 'Happy': 3,'Sad': 4, 'Surprise': 5, 'Neutral': 6}\n",
    "df=pd.read_csv('/content/gdrive/My Drive/fer2013.csv')\n",
    "df.head()"
   ]
  },
  {
   "cell_type": "code",
   "execution_count": 4,
   "metadata": {
    "colab": {
     "base_uri": "https://localhost:8080/",
     "height": 204
    },
    "colab_type": "code",
    "executionInfo": {
     "elapsed": 1694,
     "status": "ok",
     "timestamp": 1599321375784,
     "user": {
      "displayName": "Divesh Bisht",
      "photoUrl": "",
      "userId": "12021115692153353923"
     },
     "user_tz": -330
    },
    "id": "qzZKSzmJdzKh",
    "outputId": "411e1cc4-8321-4635-ccaf-562e634057ff"
   },
   "outputs": [
    {
     "name": "stdout",
     "output_type": "stream",
     "text": [
      "<class 'pandas.core.frame.DataFrame'>\n",
      "RangeIndex: 35887 entries, 0 to 35886\n",
      "Data columns (total 3 columns):\n",
      " #   Column   Non-Null Count  Dtype \n",
      "---  ------   --------------  ----- \n",
      " 0   emotion  35887 non-null  int64 \n",
      " 1   pixels   35887 non-null  object\n",
      " 2   Usage    35887 non-null  object\n",
      "dtypes: int64(1), object(2)\n",
      "memory usage: 841.2+ KB\n",
      "None\n"
     ]
    }
   ],
   "source": [
    "print(df.info())"
   ]
  },
  {
   "cell_type": "code",
   "execution_count": 5,
   "metadata": {
    "colab": {
     "base_uri": "https://localhost:8080/",
     "height": 221
    },
    "colab_type": "code",
    "executionInfo": {
     "elapsed": 1258,
     "status": "ok",
     "timestamp": 1599321380244,
     "user": {
      "displayName": "Divesh Bisht",
      "photoUrl": "",
      "userId": "12021115692153353923"
     },
     "user_tz": -330
    },
    "id": "g32TUeecd6ri",
    "outputId": "09826eb6-daa8-4980-b922-08bbdc5faba3"
   },
   "outputs": [
    {
     "name": "stdout",
     "output_type": "stream",
     "text": [
      "Training       28709\n",
      "PublicTest      3589\n",
      "PrivateTest     3589\n",
      "Name: Usage, dtype: int64\n",
      "3    8989\n",
      "6    6198\n",
      "4    6077\n",
      "2    5121\n",
      "0    4953\n",
      "5    4002\n",
      "1     547\n",
      "Name: emotion, dtype: int64\n"
     ]
    }
   ],
   "source": [
    "print(df[\"Usage\"].value_counts())\n",
    "print(df[\"emotion\"].value_counts())"
   ]
  },
  {
   "cell_type": "code",
   "execution_count": 6,
   "metadata": {
    "colab": {},
    "colab_type": "code",
    "executionInfo": {
     "elapsed": 25587,
     "status": "ok",
     "timestamp": 1599321411335,
     "user": {
      "displayName": "Divesh Bisht",
      "photoUrl": "",
      "userId": "12021115692153353923"
     },
     "user_tz": -330
    },
    "id": "qugek9TagfPZ"
   },
   "outputs": [],
   "source": [
    "x_train, y_train, x_val, y_val, x_test, y_test = [],[],[],[],[],[]\n",
    "num_classes=7\n",
    "\n",
    "for index, row in df.iterrows():\n",
    "  try:\n",
    "    val=row['pixels'].split(\" \")\n",
    "    pixels = np.array(val, 'float32')\n",
    "    emotion = np_utils.to_categorical(row['emotion'], num_classes)\n",
    "\n",
    "    if 'Training' in row['Usage']:\n",
    "      x_train.append(pixels)\n",
    "      y_train.append(emotion)\n",
    "    elif 'PublicTest' in row['Usage']:\n",
    "      x_val.append(pixels)\n",
    "      y_val.append(emotion)\n",
    "    elif 'PrivateTest' in row['Usage']:\n",
    "      x_test.append(pixels)\n",
    "      y_test.append(emotion)\n",
    "  except:\n",
    "      print(\"Error occured at index : {index} and row : {row}\")\n",
    "      \n"
   ]
  },
  {
   "cell_type": "code",
   "execution_count": 7,
   "metadata": {
    "colab": {
     "base_uri": "https://localhost:8080/",
     "height": 119
    },
    "colab_type": "code",
    "executionInfo": {
     "elapsed": 1239,
     "status": "ok",
     "timestamp": 1599321416697,
     "user": {
      "displayName": "Divesh Bisht",
      "photoUrl": "",
      "userId": "12021115692153353923"
     },
     "user_tz": -330
    },
    "id": "wTbtmqykwmFM",
    "outputId": "2be06d66-0c4d-49a6-cb49-31b2e802221e"
   },
   "outputs": [
    {
     "name": "stdout",
     "output_type": "stream",
     "text": [
      "(28709, 2304)\n",
      "(28709, 7)\n",
      "(3589, 2304)\n",
      "(3589, 7)\n",
      "(3589, 2304)\n",
      "(3589, 7)\n"
     ]
    }
   ],
   "source": [
    "x_train = np.array(x_train, 'float32')\n",
    "y_train = np.array(y_train, 'float32')\n",
    "x_val = np.array(x_val, 'float32')\n",
    "y_val = np.array(y_val, 'float32')\n",
    "x_test = np.array(x_test, 'float32')\n",
    "y_test = np.array(y_test, 'float32')\n",
    "print(x_train.shape)\n",
    "print(y_train.shape)\n",
    "print(x_val.shape)\n",
    "print(y_val.shape)\n",
    "print(x_test.shape)\n",
    "print(y_test.shape)"
   ]
  },
  {
   "cell_type": "code",
   "execution_count": 8,
   "metadata": {
    "colab": {},
    "colab_type": "code",
    "executionInfo": {
     "elapsed": 2742,
     "status": "ok",
     "timestamp": 1599321422322,
     "user": {
      "displayName": "Divesh Bisht",
      "photoUrl": "",
      "userId": "12021115692153353923"
     },
     "user_tz": -330
    },
    "id": "B3J4ir6mx8LT"
   },
   "outputs": [],
   "source": [
    "x_train = x_train.reshape(x_train.shape[0], 48, 48)\n",
    "x_val = x_val.reshape(x_val.shape[0], 48, 48)\n",
    "x_test = x_test.reshape(x_test.shape[0], 48, 48)\n",
    "\n",
    "x_train = np.repeat(x_train[..., np.newaxis], 3, -1)\n",
    "x_val = np.repeat(x_val[..., np.newaxis], 3, -1)\n",
    "x_test = np.repeat(x_test[..., np.newaxis], 3, -1)"
   ]
  },
  {
   "cell_type": "code",
   "execution_count": 9,
   "metadata": {
    "colab": {
     "base_uri": "https://localhost:8080/",
     "height": 68
    },
    "colab_type": "code",
    "executionInfo": {
     "elapsed": 1254,
     "status": "ok",
     "timestamp": 1599321429608,
     "user": {
      "displayName": "Divesh Bisht",
      "photoUrl": "",
      "userId": "12021115692153353923"
     },
     "user_tz": -330
    },
    "id": "3vCyyHEXKaN9",
    "outputId": "46793ede-38d0-49ae-f9b2-537ad644473a"
   },
   "outputs": [
    {
     "name": "stdout",
     "output_type": "stream",
     "text": [
      "(28709, 48, 48, 3)\n",
      "(3589, 48, 48, 3)\n",
      "(3589, 48, 48, 3)\n"
     ]
    }
   ],
   "source": [
    "print(x_train.shape)\n",
    "print(x_val.shape)\n",
    "print(x_test.shape)"
   ]
  },
  {
   "cell_type": "code",
   "execution_count": 24,
   "metadata": {
    "colab": {},
    "colab_type": "code",
    "executionInfo": {
     "elapsed": 1294,
     "status": "ok",
     "timestamp": 1599322660196,
     "user": {
      "displayName": "Divesh Bisht",
      "photoUrl": "",
      "userId": "12021115692153353923"
     },
     "user_tz": -330
    },
    "id": "KkNo9Y-dVZpr"
   },
   "outputs": [],
   "source": [
    "batch_size=256\n",
    "train_datagen = ImageDataGenerator(rescale=1./255, shear_range=0.2, zoom_range=0.2, horizontal_flip=True)\n",
    "val_datagen = ImageDataGenerator(rescale=1./255)\n",
    "train_generator = train_datagen.flow(x_train, y_train, batch_size=batch_size)\n",
    "val_generator = val_datagen.flow(x_val, y_val, batch_size=batch_size)"
   ]
  },
  {
   "cell_type": "code",
   "execution_count": 25,
   "metadata": {
    "colab": {
     "base_uri": "https://localhost:8080/",
     "height": 394
    },
    "colab_type": "code",
    "executionInfo": {
     "elapsed": 2655,
     "status": "ok",
     "timestamp": 1599322664311,
     "user": {
      "displayName": "Divesh Bisht",
      "photoUrl": "",
      "userId": "12021115692153353923"
     },
     "user_tz": -330
    },
    "id": "SsmskBJ7gKyz",
    "outputId": "2f05f728-7f22-4519-b9cc-49afb675d555"
   },
   "outputs": [
    {
     "name": "stdout",
     "output_type": "stream",
     "text": [
      "Downloading data from https://storage.googleapis.com/tensorflow/keras-applications/vgg16/vgg16_weights_tf_dim_ordering_tf_kernels_notop.h5\n",
      "58892288/58889256 [==============================] - 1s 0us/step\n",
      "1 input_4\n",
      "2 block1_conv1\n",
      "3 block1_conv2\n",
      "4 block1_pool\n",
      "5 block2_conv1\n",
      "6 block2_conv2\n",
      "7 block2_pool\n",
      "8 block3_conv1\n",
      "9 block3_conv2\n",
      "10 block3_conv3\n",
      "11 block3_pool\n",
      "12 block4_conv1\n",
      "13 block4_conv2\n",
      "14 block4_conv3\n",
      "15 block4_pool\n",
      "16 block5_conv1\n",
      "17 block5_conv2\n",
      "18 block5_conv3\n",
      "19 block5_pool\n"
     ]
    }
   ],
   "source": [
    "base_model = applications.VGG16(weights='imagenet', include_top=False)\n",
    "i=0\n",
    "for layer in base_model.layers:\n",
    "    layer.trainable = False\n",
    "    i = i+1\n",
    "    print(i,layer.name)"
   ]
  },
  {
   "cell_type": "code",
   "execution_count": 27,
   "metadata": {
    "colab": {},
    "colab_type": "code",
    "executionInfo": {
     "elapsed": 1325,
     "status": "ok",
     "timestamp": 1599322697997,
     "user": {
      "displayName": "Divesh Bisht",
      "photoUrl": "",
      "userId": "12021115692153353923"
     },
     "user_tz": -330
    },
    "id": "Cc2NVhydLutZ"
   },
   "outputs": [],
   "source": [
    "x = base_model.output\n",
    "x = Dense(512, activation='relu')(x)\n",
    "x = GlobalAveragePooling2D()(x) \n",
    "x = Dropout(0.5)(x)\n",
    "predictions = Dense(7, activation='softmax')(x)"
   ]
  },
  {
   "cell_type": "code",
   "execution_count": 28,
   "metadata": {
    "colab": {
     "base_uri": "https://localhost:8080/",
     "height": 1000
    },
    "colab_type": "code",
    "executionInfo": {
     "elapsed": 723168,
     "status": "ok",
     "timestamp": 1599323423449,
     "user": {
      "displayName": "Divesh Bisht",
      "photoUrl": "",
      "userId": "12021115692153353923"
     },
     "user_tz": -330
    },
    "id": "yIDn9ijLrI7d",
    "outputId": "0f3326c7-1b6f-497b-8ced-b3d83a5115d2"
   },
   "outputs": [
    {
     "name": "stdout",
     "output_type": "stream",
     "text": [
      "Epoch 1/30\n",
      "112/112 [==============================] - 24s 216ms/step - loss: 1.7305 - accuracy: 0.3037 - val_loss: 1.6163 - val_accuracy: 0.3619\n",
      "Epoch 2/30\n",
      "112/112 [==============================] - 24s 213ms/step - loss: 1.6432 - accuracy: 0.3531 - val_loss: 1.5798 - val_accuracy: 0.3873\n",
      "Epoch 3/30\n",
      "112/112 [==============================] - 24s 211ms/step - loss: 1.6176 - accuracy: 0.3691 - val_loss: 1.5615 - val_accuracy: 0.3962\n",
      "Epoch 4/30\n",
      "112/112 [==============================] - 24s 212ms/step - loss: 1.5970 - accuracy: 0.3761 - val_loss: 1.5571 - val_accuracy: 0.3993\n",
      "Epoch 5/30\n",
      "112/112 [==============================] - 24s 212ms/step - loss: 1.5818 - accuracy: 0.3853 - val_loss: 1.5397 - val_accuracy: 0.4129\n",
      "Epoch 6/30\n",
      "112/112 [==============================] - 23s 209ms/step - loss: 1.5724 - accuracy: 0.3859 - val_loss: 1.5439 - val_accuracy: 0.4049\n",
      "Epoch 7/30\n",
      "112/112 [==============================] - 24s 212ms/step - loss: 1.5638 - accuracy: 0.3912 - val_loss: 1.5309 - val_accuracy: 0.4208\n",
      "Epoch 8/30\n",
      "112/112 [==============================] - 24s 212ms/step - loss: 1.5530 - accuracy: 0.3971 - val_loss: 1.5292 - val_accuracy: 0.4149\n",
      "Epoch 9/30\n",
      "112/112 [==============================] - 24s 213ms/step - loss: 1.5492 - accuracy: 0.3986 - val_loss: 1.5411 - val_accuracy: 0.4074\n",
      "Epoch 10/30\n",
      "112/112 [==============================] - 24s 215ms/step - loss: 1.5418 - accuracy: 0.3997 - val_loss: 1.5172 - val_accuracy: 0.4202\n",
      "Epoch 11/30\n",
      "112/112 [==============================] - 24s 213ms/step - loss: 1.5382 - accuracy: 0.4027 - val_loss: 1.5182 - val_accuracy: 0.4180\n",
      "Epoch 12/30\n",
      "112/112 [==============================] - 24s 215ms/step - loss: 1.5320 - accuracy: 0.4045 - val_loss: 1.5121 - val_accuracy: 0.4213\n",
      "Epoch 13/30\n",
      "112/112 [==============================] - 24s 216ms/step - loss: 1.5248 - accuracy: 0.4070 - val_loss: 1.5000 - val_accuracy: 0.4316\n",
      "Epoch 14/30\n",
      "112/112 [==============================] - 24s 212ms/step - loss: 1.5164 - accuracy: 0.4131 - val_loss: 1.5081 - val_accuracy: 0.4219\n",
      "Epoch 15/30\n",
      "112/112 [==============================] - 24s 214ms/step - loss: 1.5124 - accuracy: 0.4154 - val_loss: 1.4999 - val_accuracy: 0.4277\n",
      "Epoch 16/30\n",
      "112/112 [==============================] - 24s 214ms/step - loss: 1.5117 - accuracy: 0.4152 - val_loss: 1.5075 - val_accuracy: 0.4249\n",
      "Epoch 17/30\n",
      "112/112 [==============================] - 24s 212ms/step - loss: 1.5063 - accuracy: 0.4205 - val_loss: 1.5004 - val_accuracy: 0.4269\n",
      "Epoch 18/30\n",
      "112/112 [==============================] - 24s 213ms/step - loss: 1.4955 - accuracy: 0.4232 - val_loss: 1.4987 - val_accuracy: 0.4261\n",
      "Epoch 19/30\n",
      "112/112 [==============================] - 24s 212ms/step - loss: 1.4963 - accuracy: 0.4199 - val_loss: 1.4919 - val_accuracy: 0.4347\n",
      "Epoch 20/30\n",
      "112/112 [==============================] - 24s 214ms/step - loss: 1.4940 - accuracy: 0.4216 - val_loss: 1.4889 - val_accuracy: 0.4395\n",
      "Epoch 21/30\n",
      "112/112 [==============================] - 24s 212ms/step - loss: 1.4870 - accuracy: 0.4246 - val_loss: 1.4946 - val_accuracy: 0.4322\n",
      "Epoch 22/30\n",
      "112/112 [==============================] - 24s 211ms/step - loss: 1.4809 - accuracy: 0.4258 - val_loss: 1.4920 - val_accuracy: 0.4308\n",
      "Epoch 23/30\n",
      "112/112 [==============================] - 23s 209ms/step - loss: 1.4790 - accuracy: 0.4295 - val_loss: 1.4897 - val_accuracy: 0.4294\n",
      "Epoch 24/30\n",
      "112/112 [==============================] - 24s 211ms/step - loss: 1.4750 - accuracy: 0.4311 - val_loss: 1.4820 - val_accuracy: 0.4367\n",
      "Epoch 25/30\n",
      "112/112 [==============================] - 24s 212ms/step - loss: 1.4678 - accuracy: 0.4312 - val_loss: 1.4816 - val_accuracy: 0.4353\n",
      "Epoch 26/30\n",
      "112/112 [==============================] - 24s 212ms/step - loss: 1.4646 - accuracy: 0.4357 - val_loss: 1.4903 - val_accuracy: 0.4342\n",
      "Epoch 27/30\n",
      "112/112 [==============================] - 23s 209ms/step - loss: 1.4594 - accuracy: 0.4365 - val_loss: 1.4846 - val_accuracy: 0.4311\n",
      "Epoch 28/30\n",
      "112/112 [==============================] - 24s 211ms/step - loss: 1.4584 - accuracy: 0.4393 - val_loss: 1.5011 - val_accuracy: 0.4277\n",
      "Epoch 29/30\n",
      "112/112 [==============================] - 23s 210ms/step - loss: 1.4537 - accuracy: 0.4373 - val_loss: 1.4903 - val_accuracy: 0.4350\n",
      "Epoch 30/30\n",
      "112/112 [==============================] - 23s 206ms/step - loss: 1.4557 - accuracy: 0.4367 - val_loss: 1.4825 - val_accuracy: 0.4311\n"
     ]
    },
    {
     "data": {
      "text/plain": [
       "<tensorflow.python.keras.callbacks.History at 0x7f2764c77550>"
      ]
     },
     "execution_count": 28,
     "metadata": {
      "tags": []
     },
     "output_type": "execute_result"
    }
   ],
   "source": [
    "model = Model(inputs=base_model.input, outputs=predictions)\n",
    "model.compile(loss='categorical_crossentropy', optimizer='adam', metrics=['accuracy'])\n",
    "epochs=30\n",
    "checkpoint = ModelCheckpoint('pre_trained_model.h5', monitor='val_loss', save_best_only=True, save_weights_only=False, mode='auto')\n",
    "model.fit(train_generator, steps_per_epoch=len(x_train)//batch_size, batch_size=batch_size, epochs=epochs, callbacks=[checkpoint], validation_data=val_generator, validation_steps=len(x_val)//batch_size)\n"
   ]
  },
  {
   "cell_type": "code",
   "execution_count": 29,
   "metadata": {
    "colab": {},
    "colab_type": "code",
    "executionInfo": {
     "elapsed": 1240,
     "status": "ok",
     "timestamp": 1599323447885,
     "user": {
      "displayName": "Divesh Bisht",
      "photoUrl": "",
      "userId": "12021115692153353923"
     },
     "user_tz": -330
    },
    "id": "kak8m2lxp_mC"
   },
   "outputs": [],
   "source": [
    "train_datagen = ImageDataGenerator(rescale=1./255, shear_range=0.2, zoom_range=0.2, horizontal_flip=True)\n",
    "val_datagen = ImageDataGenerator(rescale=1./255)\n",
    "train_generator = train_datagen.flow(x_train, y_train, batch_size=batch_size)\n",
    "val_generator = val_datagen.flow(x_val, y_val, batch_size=batch_size)"
   ]
  },
  {
   "cell_type": "code",
   "execution_count": 30,
   "metadata": {
    "colab": {},
    "colab_type": "code",
    "executionInfo": {
     "elapsed": 1262,
     "status": "ok",
     "timestamp": 1599323455511,
     "user": {
      "displayName": "Divesh Bisht",
      "photoUrl": "",
      "userId": "12021115692153353923"
     },
     "user_tz": -330
    },
    "id": "uSVv3wtPq6R3"
   },
   "outputs": [],
   "source": [
    "base_model = applications.VGG16(include_top=False, weights=None)\n",
    "i=0\n",
    "for layer in base_model.layers:\n",
    "    layer.trainable = True\n",
    "    i = i+1"
   ]
  },
  {
   "cell_type": "code",
   "execution_count": 31,
   "metadata": {
    "colab": {},
    "colab_type": "code",
    "executionInfo": {
     "elapsed": 1242,
     "status": "ok",
     "timestamp": 1599323460091,
     "user": {
      "displayName": "Divesh Bisht",
      "photoUrl": "",
      "userId": "12021115692153353923"
     },
     "user_tz": -330
    },
    "id": "3FBPFUhPrIV_"
   },
   "outputs": [],
   "source": [
    "x = base_model.output\n",
    "x = Dense(512, activation='relu')(x)\n",
    "x = GlobalAveragePooling2D()(x) \n",
    "x = Dropout(0.5)(x)\n",
    "predictions = Dense(7, activation='softmax')(x)"
   ]
  },
  {
   "cell_type": "code",
   "execution_count": 32,
   "metadata": {
    "colab": {
     "base_uri": "https://localhost:8080/",
     "height": 1000
    },
    "colab_type": "code",
    "executionInfo": {
     "elapsed": 805328,
     "status": "ok",
     "timestamp": 1599324300418,
     "user": {
      "displayName": "Divesh Bisht",
      "photoUrl": "",
      "userId": "12021115692153353923"
     },
     "user_tz": -330
    },
    "id": "d7epnc_crSnH",
    "outputId": "b92b2cd8-47fd-4890-da6d-dc00aed245c7"
   },
   "outputs": [
    {
     "name": "stdout",
     "output_type": "stream",
     "text": [
      "Epoch 1/30\n",
      "112/112 [==============================] - 27s 245ms/step - loss: 1.4367 - accuracy: 0.4469 - val_loss: 1.4278 - val_accuracy: 0.4601\n",
      "Epoch 2/30\n",
      "112/112 [==============================] - 27s 239ms/step - loss: 1.3828 - accuracy: 0.4686 - val_loss: 1.4033 - val_accuracy: 0.4746\n",
      "Epoch 3/30\n",
      "112/112 [==============================] - 27s 237ms/step - loss: 1.3504 - accuracy: 0.4832 - val_loss: 1.3720 - val_accuracy: 0.4874\n",
      "Epoch 4/30\n",
      "112/112 [==============================] - 26s 236ms/step - loss: 1.3196 - accuracy: 0.4994 - val_loss: 1.3507 - val_accuracy: 0.4941\n",
      "Epoch 5/30\n",
      "112/112 [==============================] - 27s 238ms/step - loss: 1.2963 - accuracy: 0.5071 - val_loss: 1.3160 - val_accuracy: 0.5078\n",
      "Epoch 6/30\n",
      "112/112 [==============================] - 27s 238ms/step - loss: 1.2736 - accuracy: 0.5140 - val_loss: 1.3047 - val_accuracy: 0.5140\n",
      "Epoch 7/30\n",
      "112/112 [==============================] - 26s 235ms/step - loss: 1.2542 - accuracy: 0.5268 - val_loss: 1.2758 - val_accuracy: 0.5212\n",
      "Epoch 8/30\n",
      "112/112 [==============================] - 26s 235ms/step - loss: 1.2389 - accuracy: 0.5331 - val_loss: 1.2637 - val_accuracy: 0.5237\n",
      "Epoch 9/30\n",
      "112/112 [==============================] - 26s 234ms/step - loss: 1.2198 - accuracy: 0.5374 - val_loss: 1.2664 - val_accuracy: 0.5273\n",
      "Epoch 10/30\n",
      "112/112 [==============================] - 26s 235ms/step - loss: 1.2042 - accuracy: 0.5447 - val_loss: 1.2573 - val_accuracy: 0.5332\n",
      "Epoch 11/30\n",
      "112/112 [==============================] - 26s 235ms/step - loss: 1.1901 - accuracy: 0.5514 - val_loss: 1.2325 - val_accuracy: 0.5352\n",
      "Epoch 12/30\n",
      "112/112 [==============================] - 26s 235ms/step - loss: 1.1847 - accuracy: 0.5519 - val_loss: 1.2257 - val_accuracy: 0.5405\n",
      "Epoch 13/30\n",
      "112/112 [==============================] - 26s 234ms/step - loss: 1.1624 - accuracy: 0.5591 - val_loss: 1.2210 - val_accuracy: 0.5438\n",
      "Epoch 14/30\n",
      "112/112 [==============================] - 26s 232ms/step - loss: 1.1572 - accuracy: 0.5617 - val_loss: 1.2245 - val_accuracy: 0.5402\n",
      "Epoch 15/30\n",
      "112/112 [==============================] - 26s 235ms/step - loss: 1.1533 - accuracy: 0.5653 - val_loss: 1.2160 - val_accuracy: 0.5463\n",
      "Epoch 16/30\n",
      "112/112 [==============================] - 26s 236ms/step - loss: 1.1384 - accuracy: 0.5679 - val_loss: 1.1951 - val_accuracy: 0.5575\n",
      "Epoch 17/30\n",
      "112/112 [==============================] - 27s 238ms/step - loss: 1.1362 - accuracy: 0.5722 - val_loss: 1.1933 - val_accuracy: 0.5505\n",
      "Epoch 18/30\n",
      "112/112 [==============================] - 26s 235ms/step - loss: 1.1222 - accuracy: 0.5753 - val_loss: 1.1861 - val_accuracy: 0.5566\n",
      "Epoch 19/30\n",
      "112/112 [==============================] - 27s 238ms/step - loss: 1.1156 - accuracy: 0.5788 - val_loss: 1.1841 - val_accuracy: 0.5631\n",
      "Epoch 20/30\n",
      "112/112 [==============================] - 27s 238ms/step - loss: 1.1079 - accuracy: 0.5829 - val_loss: 1.1813 - val_accuracy: 0.5645\n",
      "Epoch 21/30\n",
      "112/112 [==============================] - 27s 239ms/step - loss: 1.0963 - accuracy: 0.5857 - val_loss: 1.1764 - val_accuracy: 0.5622\n",
      "Epoch 22/30\n",
      "112/112 [==============================] - 27s 239ms/step - loss: 1.0910 - accuracy: 0.5871 - val_loss: 1.1729 - val_accuracy: 0.5661\n",
      "Epoch 23/30\n",
      "112/112 [==============================] - 26s 233ms/step - loss: 1.0782 - accuracy: 0.5933 - val_loss: 1.1773 - val_accuracy: 0.5642\n",
      "Epoch 24/30\n",
      "112/112 [==============================] - 26s 233ms/step - loss: 1.0722 - accuracy: 0.5959 - val_loss: 1.1969 - val_accuracy: 0.5597\n",
      "Epoch 25/30\n",
      "112/112 [==============================] - 26s 235ms/step - loss: 1.0646 - accuracy: 0.5963 - val_loss: 1.1594 - val_accuracy: 0.5700\n",
      "Epoch 26/30\n",
      "112/112 [==============================] - 26s 235ms/step - loss: 1.0605 - accuracy: 0.5984 - val_loss: 1.1695 - val_accuracy: 0.5667\n",
      "Epoch 27/30\n",
      "112/112 [==============================] - 26s 232ms/step - loss: 1.0491 - accuracy: 0.6044 - val_loss: 1.1828 - val_accuracy: 0.5650\n",
      "Epoch 28/30\n",
      "112/112 [==============================] - 26s 236ms/step - loss: 1.0485 - accuracy: 0.6062 - val_loss: 1.1564 - val_accuracy: 0.5748\n",
      "Epoch 29/30\n",
      "112/112 [==============================] - 28s 246ms/step - loss: 1.0419 - accuracy: 0.6075 - val_loss: 1.1486 - val_accuracy: 0.5809\n",
      "Epoch 30/30\n",
      "112/112 [==============================] - 27s 243ms/step - loss: 1.0336 - accuracy: 0.6070 - val_loss: 1.1514 - val_accuracy: 0.5795\n"
     ]
    }
   ],
   "source": [
    "model = Model(inputs=base_model.input, outputs=predictions)\n",
    "model.load_weights(\"pre_trained_model.h5\")\n",
    "model.compile(loss='categorical_crossentropy', optimizer=SGD(lr=0.0001, momentum=0.9), metrics=['accuracy'])\n",
    "\n",
    "checkpoint = ModelCheckpoint('fine_tuned_model.h5', monitor='val_loss', save_best_only=True, save_weights_only=False, mode='auto')\n",
    "history=model.fit(train_generator, steps_per_epoch=len(x_train)//batch_size, batch_size=batch_size, epochs=epochs, callbacks=[checkpoint], validation_data=val_generator, validation_steps=len(x_val)//batch_size)\n"
   ]
  },
  {
   "cell_type": "code",
   "execution_count": 38,
   "metadata": {
    "colab": {
     "base_uri": "https://localhost:8080/",
     "height": 34
    },
    "colab_type": "code",
    "executionInfo": {
     "elapsed": 1690,
     "status": "ok",
     "timestamp": 1599324556659,
     "user": {
      "displayName": "Divesh Bisht",
      "photoUrl": "",
      "userId": "12021115692153353923"
     },
     "user_tz": -330
    },
    "id": "sulaNO3uKIDS",
    "outputId": "2b65153f-4f96-4d98-cd30-28be702b506f"
   },
   "outputs": [
    {
     "name": "stdout",
     "output_type": "stream",
     "text": [
      "15/15 [==============================] - 0s 30ms/step - loss: 1.1016 - accuracy: 0.5829\n"
     ]
    }
   ],
   "source": [
    "test_datagen = ImageDataGenerator(rescale=1./255)\n",
    "test_generator = test_datagen.flow(x_test, y_test, batch_size=batch_size)\n",
    "scores = model.evaluate(test_generator)"
   ]
  },
  {
   "cell_type": "code",
   "execution_count": 39,
   "metadata": {
    "colab": {
     "base_uri": "https://localhost:8080/",
     "height": 51
    },
    "colab_type": "code",
    "executionInfo": {
     "elapsed": 1252,
     "status": "ok",
     "timestamp": 1599324614399,
     "user": {
      "displayName": "Divesh Bisht",
      "photoUrl": "",
      "userId": "12021115692153353923"
     },
     "user_tz": -330
    },
    "id": "_qNCjhPBLENJ",
    "outputId": "38028428-9796-4864-d5d1-b9147f6ee188"
   },
   "outputs": [
    {
     "name": "stdout",
     "output_type": "stream",
     "text": [
      "Loss :  1.1015994548797607\n",
      "Accuracy :  0.5828921794891357\n"
     ]
    }
   ],
   "source": [
    "print(\"Loss : \",scores[0])\n",
    "print(\"Accuracy : \",scores[1])"
   ]
  }
 ],
 "metadata": {
  "accelerator": "GPU",
  "colab": {
   "authorship_tag": "ABX9TyPBwqtGoZOhE20wJFqzo7K6",
   "name": "EmotionDetector.ipynb",
   "provenance": []
  },
  "kernelspec": {
   "display_name": "Python 3",
   "language": "python",
   "name": "python3"
  },
  "language_info": {
   "codemirror_mode": {
    "name": "ipython",
    "version": 3
   },
   "file_extension": ".py",
   "mimetype": "text/x-python",
   "name": "python",
   "nbconvert_exporter": "python",
   "pygments_lexer": "ipython3",
   "version": "3.7.4"
  }
 },
 "nbformat": 4,
 "nbformat_minor": 1
}
